{
 "cells": [
  {
   "cell_type": "code",
   "execution_count": 31,
   "id": "822eded8-a312-4d08-956a-937febbb1907",
   "metadata": {},
   "outputs": [
    {
     "name": "stdout",
     "output_type": "stream",
     "text": [
      "Requirement already satisfied: ntscraper in /opt/anaconda3/lib/python3.11/site-packages (0.3.13)\n",
      "Requirement already satisfied: requests in /opt/anaconda3/lib/python3.11/site-packages (from ntscraper) (2.31.0)\n",
      "Requirement already satisfied: beautifulsoup4 in /opt/anaconda3/lib/python3.11/site-packages (from ntscraper) (4.12.2)\n",
      "Requirement already satisfied: lxml in /opt/anaconda3/lib/python3.11/site-packages (from ntscraper) (4.9.3)\n",
      "Requirement already satisfied: soupsieve>1.2 in /opt/anaconda3/lib/python3.11/site-packages (from beautifulsoup4->ntscraper) (2.5)\n",
      "Requirement already satisfied: charset-normalizer<4,>=2 in /opt/anaconda3/lib/python3.11/site-packages (from requests->ntscraper) (2.0.4)\n",
      "Requirement already satisfied: idna<4,>=2.5 in /opt/anaconda3/lib/python3.11/site-packages (from requests->ntscraper) (3.4)\n",
      "Requirement already satisfied: urllib3<3,>=1.21.1 in /opt/anaconda3/lib/python3.11/site-packages (from requests->ntscraper) (2.0.7)\n",
      "Requirement already satisfied: certifi>=2017.4.17 in /opt/anaconda3/lib/python3.11/site-packages (from requests->ntscraper) (2024.2.2)\n",
      "Note: you may need to restart the kernel to use updated packages.\n"
     ]
    }
   ],
   "source": [
    "pip install ntscraper"
   ]
  },
  {
   "cell_type": "code",
   "execution_count": 32,
   "id": "996e43f6-0efd-4e34-beba-beb9b2911b3a",
   "metadata": {},
   "outputs": [],
   "source": [
    "import pandas as pd\n",
    "from ntscraper import Nitter"
   ]
  },
  {
   "cell_type": "code",
   "execution_count": 33,
   "id": "5aa56f15-66d6-4172-b5e5-f68c9fca7e71",
   "metadata": {},
   "outputs": [
    {
     "name": "stderr",
     "output_type": "stream",
     "text": [
      "Testing instances: 100%|████████████████████████| 77/77 [03:12<00:00,  2.50s/it]\n"
     ]
    }
   ],
   "source": [
    "scraper = Nitter()"
   ]
  },
  {
   "cell_type": "code",
   "execution_count": 34,
   "id": "baea9098-0ce9-4d33-badc-c2084efce053",
   "metadata": {},
   "outputs": [
    {
     "name": "stdout",
     "output_type": "stream",
     "text": [
      "17-Apr-24 10:40:56 - No instance specified, using random instance https://nitter.privacydev.net\n",
      "17-Apr-24 10:41:02 - Current stats for B_hundred_Hyun: 5 tweets, 0 threads...\n"
     ]
    }
   ],
   "source": [
    "tweets = scraper.get_tweets('B_hundred_Hyun',mode = 'user', number = 5)"
   ]
  },
  {
   "cell_type": "code",
   "execution_count": 35,
   "id": "da017e09-fd72-40e4-b0ce-b864df227ccd",
   "metadata": {},
   "outputs": [
    {
     "data": {
      "text/plain": [
       "{'tweets': [{'link': 'https://twitter.com/B_hundred_Hyun/status/1775701286874501402#m',\n",
       "   'text': 'https://twitter.com/i/spaces/1MnxnMmXeVYJO',\n",
       "   'user': {'name': 'Baekhyun_EXO',\n",
       "    'username': '@B_hundred_Hyun',\n",
       "    'profile_id': '1000217117600366592',\n",
       "    'avatar': 'https://pbs.twimg.com/profile_images/1000217117600366592/mDHxq24y_bigger.jpg'},\n",
       "   'date': 'Apr 4, 2024 · 1:45 AM UTC',\n",
       "   'is-retweet': False,\n",
       "   'is-pinned': False,\n",
       "   'external-link': '',\n",
       "   'replying-to': [],\n",
       "   'quoted-post': {},\n",
       "   'stats': {'comments': 25082,\n",
       "    'retweets': 8055,\n",
       "    'quotes': 1082,\n",
       "    'likes': 25360},\n",
       "   'pictures': [],\n",
       "   'videos': [],\n",
       "   'gifs': []},\n",
       "  {'link': 'https://twitter.com/B_hundred_Hyun/status/1774822955496984768#m',\n",
       "   'text': 'https://twitter.com/i/spaces/1RDxllmeQaExL',\n",
       "   'user': {'name': 'Baekhyun_EXO',\n",
       "    'username': '@B_hundred_Hyun',\n",
       "    'profile_id': '1000217117600366592',\n",
       "    'avatar': 'https://pbs.twimg.com/profile_images/1000217117600366592/mDHxq24y_bigger.jpg'},\n",
       "   'date': 'Apr 1, 2024 · 3:35 PM UTC',\n",
       "   'is-retweet': False,\n",
       "   'is-pinned': False,\n",
       "   'external-link': '',\n",
       "   'replying-to': [],\n",
       "   'quoted-post': {},\n",
       "   'stats': {'comments': 46898,\n",
       "    'retweets': 13026,\n",
       "    'quotes': 1942,\n",
       "    'likes': 36575},\n",
       "   'pictures': [],\n",
       "   'videos': [],\n",
       "   'gifs': []},\n",
       "  {'link': 'https://twitter.com/B_hundred_Hyun/status/1765750956485206394#m',\n",
       "   'text': '나이제보내두대나....',\n",
       "   'user': {'name': 'Baekhyun_EXO',\n",
       "    'username': '@B_hundred_Hyun',\n",
       "    'profile_id': '1000217117600366592',\n",
       "    'avatar': 'https://pbs.twimg.com/profile_images/1000217117600366592/mDHxq24y_bigger.jpg'},\n",
       "   'date': 'Mar 7, 2024 · 2:46 PM UTC',\n",
       "   'is-retweet': False,\n",
       "   'is-pinned': False,\n",
       "   'external-link': '',\n",
       "   'replying-to': [],\n",
       "   'quoted-post': {},\n",
       "   'stats': {'comments': 5722,\n",
       "    'retweets': 12778,\n",
       "    'quotes': 1246,\n",
       "    'likes': 53777},\n",
       "   'pictures': [],\n",
       "   'videos': [],\n",
       "   'gifs': []},\n",
       "  {'link': 'https://twitter.com/B_hundred_Hyun/status/1765575895568498950#m',\n",
       "   'text': '오늘 버블 저녁에보내야겠다!!! ㅠㅜ',\n",
       "   'user': {'name': 'Baekhyun_EXO',\n",
       "    'username': '@B_hundred_Hyun',\n",
       "    'profile_id': '1000217117600366592',\n",
       "    'avatar': 'https://pbs.twimg.com/profile_images/1000217117600366592/mDHxq24y_bigger.jpg'},\n",
       "   'date': 'Mar 7, 2024 · 3:11 AM UTC',\n",
       "   'is-retweet': False,\n",
       "   'is-pinned': False,\n",
       "   'external-link': '',\n",
       "   'replying-to': [],\n",
       "   'quoted-post': {},\n",
       "   'stats': {'comments': 3772,\n",
       "    'retweets': 11746,\n",
       "    'quotes': 647,\n",
       "    'likes': 45754},\n",
       "   'pictures': [],\n",
       "   'videos': [],\n",
       "   'gifs': []},\n",
       "  {'link': 'https://twitter.com/B_hundred_Hyun/status/1765570167147483434#m',\n",
       "   'text': '조금만참는다!!?!ㅎㅎ',\n",
       "   'user': {'name': 'Baekhyun_EXO',\n",
       "    'username': '@B_hundred_Hyun',\n",
       "    'profile_id': '1000217117600366592',\n",
       "    'avatar': 'https://pbs.twimg.com/profile_images/1000217117600366592/mDHxq24y_bigger.jpg'},\n",
       "   'date': 'Mar 7, 2024 · 2:48 AM UTC',\n",
       "   'is-retweet': False,\n",
       "   'is-pinned': False,\n",
       "   'external-link': '',\n",
       "   'replying-to': [],\n",
       "   'quoted-post': {},\n",
       "   'stats': {'comments': 3823,\n",
       "    'retweets': 10810,\n",
       "    'quotes': 441,\n",
       "    'likes': 39733},\n",
       "   'pictures': [],\n",
       "   'videos': [],\n",
       "   'gifs': []}],\n",
       " 'threads': []}"
      ]
     },
     "execution_count": 35,
     "metadata": {},
     "output_type": "execute_result"
    }
   ],
   "source": [
    "tweets"
   ]
  },
  {
   "cell_type": "code",
   "execution_count": 36,
   "id": "06ba8d63-90fa-4f46-a01c-b0bf36e41322",
   "metadata": {},
   "outputs": [
    {
     "name": "stdout",
     "output_type": "stream",
     "text": [
      "{'link': 'https://twitter.com/B_hundred_Hyun/status/1775701286874501402#m', 'text': 'https://twitter.com/i/spaces/1MnxnMmXeVYJO', 'user': {'name': 'Baekhyun_EXO', 'username': '@B_hundred_Hyun', 'profile_id': '1000217117600366592', 'avatar': 'https://pbs.twimg.com/profile_images/1000217117600366592/mDHxq24y_bigger.jpg'}, 'date': 'Apr 4, 2024 · 1:45 AM UTC', 'is-retweet': False, 'is-pinned': False, 'external-link': '', 'replying-to': [], 'quoted-post': {}, 'stats': {'comments': 25082, 'retweets': 8055, 'quotes': 1082, 'likes': 25360}, 'pictures': [], 'videos': [], 'gifs': []}\n",
      "------Next Tweet------\n",
      "{'link': 'https://twitter.com/B_hundred_Hyun/status/1774822955496984768#m', 'text': 'https://twitter.com/i/spaces/1RDxllmeQaExL', 'user': {'name': 'Baekhyun_EXO', 'username': '@B_hundred_Hyun', 'profile_id': '1000217117600366592', 'avatar': 'https://pbs.twimg.com/profile_images/1000217117600366592/mDHxq24y_bigger.jpg'}, 'date': 'Apr 1, 2024 · 3:35 PM UTC', 'is-retweet': False, 'is-pinned': False, 'external-link': '', 'replying-to': [], 'quoted-post': {}, 'stats': {'comments': 46898, 'retweets': 13026, 'quotes': 1942, 'likes': 36575}, 'pictures': [], 'videos': [], 'gifs': []}\n",
      "------Next Tweet------\n",
      "{'link': 'https://twitter.com/B_hundred_Hyun/status/1765750956485206394#m', 'text': '나이제보내두대나....', 'user': {'name': 'Baekhyun_EXO', 'username': '@B_hundred_Hyun', 'profile_id': '1000217117600366592', 'avatar': 'https://pbs.twimg.com/profile_images/1000217117600366592/mDHxq24y_bigger.jpg'}, 'date': 'Mar 7, 2024 · 2:46 PM UTC', 'is-retweet': False, 'is-pinned': False, 'external-link': '', 'replying-to': [], 'quoted-post': {}, 'stats': {'comments': 5722, 'retweets': 12778, 'quotes': 1246, 'likes': 53777}, 'pictures': [], 'videos': [], 'gifs': []}\n",
      "------Next Tweet------\n",
      "{'link': 'https://twitter.com/B_hundred_Hyun/status/1765575895568498950#m', 'text': '오늘 버블 저녁에보내야겠다!!! ㅠㅜ', 'user': {'name': 'Baekhyun_EXO', 'username': '@B_hundred_Hyun', 'profile_id': '1000217117600366592', 'avatar': 'https://pbs.twimg.com/profile_images/1000217117600366592/mDHxq24y_bigger.jpg'}, 'date': 'Mar 7, 2024 · 3:11 AM UTC', 'is-retweet': False, 'is-pinned': False, 'external-link': '', 'replying-to': [], 'quoted-post': {}, 'stats': {'comments': 3772, 'retweets': 11746, 'quotes': 647, 'likes': 45754}, 'pictures': [], 'videos': [], 'gifs': []}\n",
      "------Next Tweet------\n",
      "{'link': 'https://twitter.com/B_hundred_Hyun/status/1765570167147483434#m', 'text': '조금만참는다!!?!ㅎㅎ', 'user': {'name': 'Baekhyun_EXO', 'username': '@B_hundred_Hyun', 'profile_id': '1000217117600366592', 'avatar': 'https://pbs.twimg.com/profile_images/1000217117600366592/mDHxq24y_bigger.jpg'}, 'date': 'Mar 7, 2024 · 2:48 AM UTC', 'is-retweet': False, 'is-pinned': False, 'external-link': '', 'replying-to': [], 'quoted-post': {}, 'stats': {'comments': 3823, 'retweets': 10810, 'quotes': 441, 'likes': 39733}, 'pictures': [], 'videos': [], 'gifs': []}\n",
      "------Next Tweet------\n"
     ]
    }
   ],
   "source": [
    "for tweet in tweets['tweets']:\n",
    "    print(tweet)\n",
    "    print('------Next Tweet------')"
   ]
  },
  {
   "cell_type": "code",
   "execution_count": 37,
   "id": "a396f8ee-46fd-4a7e-9910-e26a1b0ece04",
   "metadata": {},
   "outputs": [],
   "source": [
    "final_tweets = []\n",
    "for tweet in tweets['tweets']:\n",
    "    data = [tweet['link'], tweet['text'], tweet['date'], tweet['stats']['likes'],  tweet['stats']['comments']]\n",
    "    final_tweets.append(data)"
   ]
  },
  {
   "cell_type": "code",
   "execution_count": 38,
   "id": "97da578b-3405-44b9-b9a9-6c51a6a58459",
   "metadata": {},
   "outputs": [
    {
     "data": {
      "text/plain": [
       "[['https://twitter.com/B_hundred_Hyun/status/1775701286874501402#m',\n",
       "  'https://twitter.com/i/spaces/1MnxnMmXeVYJO',\n",
       "  'Apr 4, 2024 · 1:45 AM UTC',\n",
       "  25360,\n",
       "  25082],\n",
       " ['https://twitter.com/B_hundred_Hyun/status/1774822955496984768#m',\n",
       "  'https://twitter.com/i/spaces/1RDxllmeQaExL',\n",
       "  'Apr 1, 2024 · 3:35 PM UTC',\n",
       "  36575,\n",
       "  46898],\n",
       " ['https://twitter.com/B_hundred_Hyun/status/1765750956485206394#m',\n",
       "  '나이제보내두대나....',\n",
       "  'Mar 7, 2024 · 2:46 PM UTC',\n",
       "  53777,\n",
       "  5722],\n",
       " ['https://twitter.com/B_hundred_Hyun/status/1765575895568498950#m',\n",
       "  '오늘 버블 저녁에보내야겠다!!! ㅠㅜ',\n",
       "  'Mar 7, 2024 · 3:11 AM UTC',\n",
       "  45754,\n",
       "  3772],\n",
       " ['https://twitter.com/B_hundred_Hyun/status/1765570167147483434#m',\n",
       "  '조금만참는다!!?!ㅎㅎ',\n",
       "  'Mar 7, 2024 · 2:48 AM UTC',\n",
       "  39733,\n",
       "  3823]]"
      ]
     },
     "execution_count": 38,
     "metadata": {},
     "output_type": "execute_result"
    }
   ],
   "source": [
    "final_tweets"
   ]
  },
  {
   "cell_type": "code",
   "execution_count": 39,
   "id": "332f4824-89a1-4443-b727-f8d5d7dbde23",
   "metadata": {},
   "outputs": [],
   "source": [
    "data = pd.DataFrame(final_tweets, columns = ['link','text','date','No_of_Likes','No_of_Tweets'])"
   ]
  },
  {
   "cell_type": "code",
   "execution_count": 40,
   "id": "f18bca20-4288-4812-8725-25386e0b4d9a",
   "metadata": {},
   "outputs": [
    {
     "data": {
      "text/html": [
       "<div>\n",
       "<style scoped>\n",
       "    .dataframe tbody tr th:only-of-type {\n",
       "        vertical-align: middle;\n",
       "    }\n",
       "\n",
       "    .dataframe tbody tr th {\n",
       "        vertical-align: top;\n",
       "    }\n",
       "\n",
       "    .dataframe thead th {\n",
       "        text-align: right;\n",
       "    }\n",
       "</style>\n",
       "<table border=\"1\" class=\"dataframe\">\n",
       "  <thead>\n",
       "    <tr style=\"text-align: right;\">\n",
       "      <th></th>\n",
       "      <th>link</th>\n",
       "      <th>text</th>\n",
       "      <th>date</th>\n",
       "      <th>No_of_Likes</th>\n",
       "      <th>No_of_Tweets</th>\n",
       "    </tr>\n",
       "  </thead>\n",
       "  <tbody>\n",
       "    <tr>\n",
       "      <th>0</th>\n",
       "      <td>https://twitter.com/B_hundred_Hyun/status/1775...</td>\n",
       "      <td>https://twitter.com/i/spaces/1MnxnMmXeVYJO</td>\n",
       "      <td>Apr 4, 2024 · 1:45 AM UTC</td>\n",
       "      <td>25360</td>\n",
       "      <td>25082</td>\n",
       "    </tr>\n",
       "    <tr>\n",
       "      <th>1</th>\n",
       "      <td>https://twitter.com/B_hundred_Hyun/status/1774...</td>\n",
       "      <td>https://twitter.com/i/spaces/1RDxllmeQaExL</td>\n",
       "      <td>Apr 1, 2024 · 3:35 PM UTC</td>\n",
       "      <td>36575</td>\n",
       "      <td>46898</td>\n",
       "    </tr>\n",
       "    <tr>\n",
       "      <th>2</th>\n",
       "      <td>https://twitter.com/B_hundred_Hyun/status/1765...</td>\n",
       "      <td>나이제보내두대나....</td>\n",
       "      <td>Mar 7, 2024 · 2:46 PM UTC</td>\n",
       "      <td>53777</td>\n",
       "      <td>5722</td>\n",
       "    </tr>\n",
       "    <tr>\n",
       "      <th>3</th>\n",
       "      <td>https://twitter.com/B_hundred_Hyun/status/1765...</td>\n",
       "      <td>오늘 버블 저녁에보내야겠다!!! ㅠㅜ</td>\n",
       "      <td>Mar 7, 2024 · 3:11 AM UTC</td>\n",
       "      <td>45754</td>\n",
       "      <td>3772</td>\n",
       "    </tr>\n",
       "    <tr>\n",
       "      <th>4</th>\n",
       "      <td>https://twitter.com/B_hundred_Hyun/status/1765...</td>\n",
       "      <td>조금만참는다!!?!ㅎㅎ</td>\n",
       "      <td>Mar 7, 2024 · 2:48 AM UTC</td>\n",
       "      <td>39733</td>\n",
       "      <td>3823</td>\n",
       "    </tr>\n",
       "  </tbody>\n",
       "</table>\n",
       "</div>"
      ],
      "text/plain": [
       "                                                link  \\\n",
       "0  https://twitter.com/B_hundred_Hyun/status/1775...   \n",
       "1  https://twitter.com/B_hundred_Hyun/status/1774...   \n",
       "2  https://twitter.com/B_hundred_Hyun/status/1765...   \n",
       "3  https://twitter.com/B_hundred_Hyun/status/1765...   \n",
       "4  https://twitter.com/B_hundred_Hyun/status/1765...   \n",
       "\n",
       "                                         text                       date  \\\n",
       "0  https://twitter.com/i/spaces/1MnxnMmXeVYJO  Apr 4, 2024 · 1:45 AM UTC   \n",
       "1  https://twitter.com/i/spaces/1RDxllmeQaExL  Apr 1, 2024 · 3:35 PM UTC   \n",
       "2                                나이제보내두대나....  Mar 7, 2024 · 2:46 PM UTC   \n",
       "3                        오늘 버블 저녁에보내야겠다!!! ㅠㅜ  Mar 7, 2024 · 3:11 AM UTC   \n",
       "4                                조금만참는다!!?!ㅎㅎ  Mar 7, 2024 · 2:48 AM UTC   \n",
       "\n",
       "   No_of_Likes  No_of_Tweets  \n",
       "0        25360         25082  \n",
       "1        36575         46898  \n",
       "2        53777          5722  \n",
       "3        45754          3772  \n",
       "4        39733          3823  "
      ]
     },
     "execution_count": 40,
     "metadata": {},
     "output_type": "execute_result"
    }
   ],
   "source": [
    "data"
   ]
  },
  {
   "cell_type": "code",
   "execution_count": 49,
   "id": "6bc46ec8-53ed-4381-8287-6c88c9f33b89",
   "metadata": {},
   "outputs": [],
   "source": [
    "def get_tweets(name, modes, no):\n",
    "    tweets = scraper.get_tweets(name,mode = modes, number = no)\n",
    "    final_tweets = []\n",
    "    for tweet in tweets['tweets']:\n",
    "        data = [tweet['link'], tweet['text'], tweet['date'], tweet['stats']['likes'],  tweet['stats']['comments']]\n",
    "        final_tweets.append(data)\n",
    "\n",
    "    data = pd.DataFrame(final_tweets, columns = ['link','text','date','No_of_Likes','No_of_Tweets'])\n",
    "    return data"
   ]
  },
  {
   "cell_type": "code",
   "execution_count": 51,
   "id": "6729e0e7-53d3-439a-b3fd-2a3ceb6de2cf",
   "metadata": {},
   "outputs": [
    {
     "name": "stdout",
     "output_type": "stream",
     "text": [
      "17-Apr-24 10:42:41 - No instance specified, using random instance https://nitter.esmailelbob.xyz\n",
      "17-Apr-24 10:42:48 - Current stats for weareoneEXO: 10 tweets, 0 threads...\n"
     ]
    }
   ],
   "source": [
    "data = get_tweets('weareoneEXO','user',10)"
   ]
  },
  {
   "cell_type": "code",
   "execution_count": 52,
   "id": "425dcf66-555b-4503-b84a-f98275b523f7",
   "metadata": {},
   "outputs": [
    {
     "data": {
      "text/html": [
       "<div>\n",
       "<style scoped>\n",
       "    .dataframe tbody tr th:only-of-type {\n",
       "        vertical-align: middle;\n",
       "    }\n",
       "\n",
       "    .dataframe tbody tr th {\n",
       "        vertical-align: top;\n",
       "    }\n",
       "\n",
       "    .dataframe thead th {\n",
       "        text-align: right;\n",
       "    }\n",
       "</style>\n",
       "<table border=\"1\" class=\"dataframe\">\n",
       "  <thead>\n",
       "    <tr style=\"text-align: right;\">\n",
       "      <th></th>\n",
       "      <th>link</th>\n",
       "      <th>text</th>\n",
       "      <th>date</th>\n",
       "      <th>No_of_Likes</th>\n",
       "      <th>No_of_Tweets</th>\n",
       "    </tr>\n",
       "  </thead>\n",
       "  <tbody>\n",
       "    <tr>\n",
       "      <th>0</th>\n",
       "      <td>https://twitter.com/weareoneEXO/status/1715291...</td>\n",
       "      <td>CHANYEOL 찬열 '그래도 돼 (Good Enough)' MV  https://...</td>\n",
       "      <td>Oct 20, 2023 · 9:00 AM UTC</td>\n",
       "      <td>81830</td>\n",
       "      <td>1656</td>\n",
       "    </tr>\n",
       "    <tr>\n",
       "      <th>1</th>\n",
       "      <td>https://twitter.com/weareoneEXO/status/1780458...</td>\n",
       "      <td>'이건' 어때? [수호]가 세자래  https://naver.me/5XTrhT1L ...</td>\n",
       "      <td>Apr 17, 2024 · 4:50 AM UTC</td>\n",
       "      <td>3051</td>\n",
       "      <td>23</td>\n",
       "    </tr>\n",
       "    <tr>\n",
       "      <th>2</th>\n",
       "      <td>https://twitter.com/weareoneEXO/status/1779691...</td>\n",
       "      <td>세자가 사라졌다’ 수호, 비주얼+연기 빛났다! 몰입도 높이는 캐릭터 표현 ‘허당→카...</td>\n",
       "      <td>Apr 15, 2024 · 2:02 AM UTC</td>\n",
       "      <td>27106</td>\n",
       "      <td>119</td>\n",
       "    </tr>\n",
       "    <tr>\n",
       "      <th>3</th>\n",
       "      <td>https://twitter.com/SMTOWNGLOBAL/status/177967...</td>\n",
       "      <td>‘데뷔 12주년’ 엑소 팬미팅 ‘ONE’ 성황! 전 세계 103개 지역도 같이 열광...</td>\n",
       "      <td>Apr 15, 2024 · 12:58 AM UTC</td>\n",
       "      <td>40147</td>\n",
       "      <td>241</td>\n",
       "    </tr>\n",
       "    <tr>\n",
       "      <th>4</th>\n",
       "      <td>https://twitter.com/weareoneEXO/status/1779531...</td>\n",
       "      <td>We are ONE! EXO 사랑하자!🤍  #EXO #엑소 #weareoneEXO ...</td>\n",
       "      <td>Apr 14, 2024 · 3:27 PM UTC</td>\n",
       "      <td>125640</td>\n",
       "      <td>2410</td>\n",
       "    </tr>\n",
       "    <tr>\n",
       "      <th>5</th>\n",
       "      <td>https://twitter.com/weareoneEXO/status/1779072...</td>\n",
       "      <td>2024 EXO FAN MEETING : ONE  D-1  📍인스파이어 아레나 (I...</td>\n",
       "      <td>Apr 13, 2024 · 9:00 AM UTC</td>\n",
       "      <td>44496</td>\n",
       "      <td>536</td>\n",
       "    </tr>\n",
       "    <tr>\n",
       "      <th>6</th>\n",
       "      <td>https://twitter.com/weareoneEXO/status/1779064...</td>\n",
       "      <td>오늘은 수호 DAY! ‘MBN 뉴스센터’ &amp; ‘세자가 사라졌다’ 오가는 활약 예고 ...</td>\n",
       "      <td>Apr 13, 2024 · 8:31 AM UTC</td>\n",
       "      <td>26912</td>\n",
       "      <td>82</td>\n",
       "    </tr>\n",
       "    <tr>\n",
       "      <th>7</th>\n",
       "      <td>https://twitter.com/weareoneEXO/status/1779026...</td>\n",
       "      <td>2024 EXO FAN MEETING : ONE How to get the DIGI...</td>\n",
       "      <td>Apr 13, 2024 · 6:00 AM UTC</td>\n",
       "      <td>6837</td>\n",
       "      <td>16</td>\n",
       "    </tr>\n",
       "    <tr>\n",
       "      <th>8</th>\n",
       "      <td>https://twitter.com/weareoneEXO/status/1779026...</td>\n",
       "      <td>2024 EXO FAN MEETING : ONE SMTOWN에서 DIGITAL ST...</td>\n",
       "      <td>Apr 13, 2024 · 6:00 AM UTC</td>\n",
       "      <td>10115</td>\n",
       "      <td>22</td>\n",
       "    </tr>\n",
       "    <tr>\n",
       "      <th>9</th>\n",
       "      <td>https://twitter.com/weareoneEXO/status/1778964...</td>\n",
       "      <td>세자빈에게 보쌈 당한 왕세자의 운명은..? MBN 주말 미니시리즈 ＜세자가 사라졌다...</td>\n",
       "      <td>Apr 13, 2024 · 1:51 AM UTC</td>\n",
       "      <td>16208</td>\n",
       "      <td>83</td>\n",
       "    </tr>\n",
       "  </tbody>\n",
       "</table>\n",
       "</div>"
      ],
      "text/plain": [
       "                                                link  \\\n",
       "0  https://twitter.com/weareoneEXO/status/1715291...   \n",
       "1  https://twitter.com/weareoneEXO/status/1780458...   \n",
       "2  https://twitter.com/weareoneEXO/status/1779691...   \n",
       "3  https://twitter.com/SMTOWNGLOBAL/status/177967...   \n",
       "4  https://twitter.com/weareoneEXO/status/1779531...   \n",
       "5  https://twitter.com/weareoneEXO/status/1779072...   \n",
       "6  https://twitter.com/weareoneEXO/status/1779064...   \n",
       "7  https://twitter.com/weareoneEXO/status/1779026...   \n",
       "8  https://twitter.com/weareoneEXO/status/1779026...   \n",
       "9  https://twitter.com/weareoneEXO/status/1778964...   \n",
       "\n",
       "                                                text  \\\n",
       "0  CHANYEOL 찬열 '그래도 돼 (Good Enough)' MV  https://...   \n",
       "1  '이건' 어때? [수호]가 세자래  https://naver.me/5XTrhT1L ...   \n",
       "2  세자가 사라졌다’ 수호, 비주얼+연기 빛났다! 몰입도 높이는 캐릭터 표현 ‘허당→카...   \n",
       "3  ‘데뷔 12주년’ 엑소 팬미팅 ‘ONE’ 성황! 전 세계 103개 지역도 같이 열광...   \n",
       "4  We are ONE! EXO 사랑하자!🤍  #EXO #엑소 #weareoneEXO ...   \n",
       "5  2024 EXO FAN MEETING : ONE  D-1  📍인스파이어 아레나 (I...   \n",
       "6  오늘은 수호 DAY! ‘MBN 뉴스센터’ & ‘세자가 사라졌다’ 오가는 활약 예고 ...   \n",
       "7  2024 EXO FAN MEETING : ONE How to get the DIGI...   \n",
       "8  2024 EXO FAN MEETING : ONE SMTOWN에서 DIGITAL ST...   \n",
       "9  세자빈에게 보쌈 당한 왕세자의 운명은..? MBN 주말 미니시리즈 ＜세자가 사라졌다...   \n",
       "\n",
       "                          date  No_of_Likes  No_of_Tweets  \n",
       "0   Oct 20, 2023 · 9:00 AM UTC        81830          1656  \n",
       "1   Apr 17, 2024 · 4:50 AM UTC         3051            23  \n",
       "2   Apr 15, 2024 · 2:02 AM UTC        27106           119  \n",
       "3  Apr 15, 2024 · 12:58 AM UTC        40147           241  \n",
       "4   Apr 14, 2024 · 3:27 PM UTC       125640          2410  \n",
       "5   Apr 13, 2024 · 9:00 AM UTC        44496           536  \n",
       "6   Apr 13, 2024 · 8:31 AM UTC        26912            82  \n",
       "7   Apr 13, 2024 · 6:00 AM UTC         6837            16  \n",
       "8   Apr 13, 2024 · 6:00 AM UTC        10115            22  \n",
       "9   Apr 13, 2024 · 1:51 AM UTC        16208            83  "
      ]
     },
     "execution_count": 52,
     "metadata": {},
     "output_type": "execute_result"
    }
   ],
   "source": [
    "data"
   ]
  },
  {
   "cell_type": "code",
   "execution_count": 53,
   "id": "436148a9-1f85-4c8a-9ff1-51f7eafcc2b2",
   "metadata": {},
   "outputs": [],
   "source": [
    "data.to_csv('tweetscrape.csv')"
   ]
  },
  {
   "cell_type": "code",
   "execution_count": 55,
   "id": "25bea53a-4bef-45c1-a9e6-9da735e85302",
   "metadata": {},
   "outputs": [
    {
     "data": {
      "image/png": "[encoded data removed]",
      "text/plain": [
       "<Figure size 1000x600 with 1 Axes>"
      ]
     },
     "metadata": {},
     "output_type": "display_data"
    }
   ],
   "source": [
    "import matplotlib.pyplot as plt\n",
    "plt.figure(figsize=(10, 6))\n",
    "plt.bar(data['link'], data['No_of_Likes'], color='skyblue')\n",
    "plt.xlabel('Tweet Link')\n",
    "plt.ylabel('Number of Likes')\n",
    "plt.title('Number of Likes per Tweet')\n",
    "plt.xticks(rotation=45, ha='right')  # Rotate x-axis labels for better visibility\n",
    "plt.tight_layout()\n",
    "plt.show()"
   ]
  },
  {
   "cell_type": "code",
   "execution_count": null,
   "id": "4152e4a5-786c-435c-8b07-8206e98874de",
   "metadata": {},
   "outputs": [],
   "source": []
  }
 ],
 "metadata": {
  "kernelspec": {
   "display_name": "Python 3 (ipykernel)",
   "language": "python",
   "name": "python3"
  },
  "language_info": {
   "codemirror_mode": {
    "name": "ipython",
    "version": 3
   },
   "file_extension": ".py",
   "mimetype": "text/x-python",
   "name": "python",
   "nbconvert_exporter": "python",
   "pygments_lexer": "ipython3",
   "version": "3.11.7"
  }
 },
 "nbformat": 4,
 "nbformat_minor": 5
}
